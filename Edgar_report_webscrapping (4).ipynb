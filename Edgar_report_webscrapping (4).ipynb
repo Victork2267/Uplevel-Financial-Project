{
 "cells": [
  {
   "cell_type": "markdown",
   "metadata": {},
   "source": [
    "# Start running here"
   ]
  },
  {
   "cell_type": "code",
   "execution_count": 1,
   "metadata": {},
   "outputs": [],
   "source": [
    "# time to structure a function that can do all of these at one go\n",
    "\n",
    "def extract_df_pre2(link):\n",
    "    companyName = []\n",
    "    CIK = []\n",
    "    fileDate = []\n",
    "    ek_link = []\n",
    "    \n",
    "    base_url = \"http://www.sec.gov\"\n",
    "    ek_url = base_url + link\n",
    "\n",
    "    page_response_p = requests.get(ek_url, timeout=5)\n",
    "    page_content_p = BeautifulSoup(page_response_p.content, \"html.parser\")\n",
    "    \n",
    "    split_name_cik = page_content_p.find_all('span', attrs = {'class': 'companyName'})[0].text.split(' (Filer)')\n",
    "    \n",
    "    companyName.append(split_name_cik[0])\n",
    "    CIK.append(int(re.search(r'\\d+', split_name_cik[1]).group()))\n",
    "    fileDate.append(page_content_p.find_all('div', attrs = {'class': 'info'})[0].text)\n",
    "    \n",
    "    tr_content = page_content_p.find_all('tr')\n",
    "    for items in tr_content[1:]:\n",
    "        all_td = items.find_all('td')\n",
    "        for i in range(len(all_td)):\n",
    "            if all_td[i].text == '8-K':\n",
    "                ek_link.append(all_td[i-1].a['href'])\n",
    "                \n",
    "    df = pd.DataFrame({\"companyName\": companyName, \"CIK\": CIK, \"filedDate\": fileDate, \"url\": ek_link})\n",
    "    \n",
    "    return df"
   ]
  },
  {
   "cell_type": "code",
   "execution_count": 2,
   "metadata": {},
   "outputs": [
    {
     "data": {
      "text/html": [
       "<div>\n",
       "<style scoped>\n",
       "    .dataframe tbody tr th:only-of-type {\n",
       "        vertical-align: middle;\n",
       "    }\n",
       "\n",
       "    .dataframe tbody tr th {\n",
       "        vertical-align: top;\n",
       "    }\n",
       "\n",
       "    .dataframe thead th {\n",
       "        text-align: right;\n",
       "    }\n",
       "</style>\n",
       "<table border=\"1\" class=\"dataframe\">\n",
       "  <thead>\n",
       "    <tr style=\"text-align: right;\">\n",
       "      <th></th>\n",
       "      <th>links</th>\n",
       "    </tr>\n",
       "  </thead>\n",
       "  <tbody>\n",
       "    <tr>\n",
       "      <td>0</td>\n",
       "      <td>/Archives/edgar/data/1561092/00014931521400228...</td>\n",
       "    </tr>\n",
       "    <tr>\n",
       "      <td>1</td>\n",
       "      <td>/Archives/edgar/data/1561092/00014931521400000...</td>\n",
       "    </tr>\n",
       "    <tr>\n",
       "      <td>2</td>\n",
       "      <td>/Archives/edgar/data/1561092/00014931521300274...</td>\n",
       "    </tr>\n",
       "    <tr>\n",
       "      <td>3</td>\n",
       "      <td>/Archives/edgar/data/1561092/00014931521300105...</td>\n",
       "    </tr>\n",
       "    <tr>\n",
       "      <td>4</td>\n",
       "      <td>/Archives/edgar/data/1561092/00014931521300058...</td>\n",
       "    </tr>\n",
       "  </tbody>\n",
       "</table>\n",
       "</div>"
      ],
      "text/plain": [
       "                                               links\n",
       "0  /Archives/edgar/data/1561092/00014931521400228...\n",
       "1  /Archives/edgar/data/1561092/00014931521400000...\n",
       "2  /Archives/edgar/data/1561092/00014931521300274...\n",
       "3  /Archives/edgar/data/1561092/00014931521300105...\n",
       "4  /Archives/edgar/data/1561092/00014931521300058..."
      ]
     },
     "execution_count": 2,
     "metadata": {},
     "output_type": "execute_result"
    }
   ],
   "source": [
    "from bs4 import BeautifulSoup\n",
    "import requests\n",
    "import re\n",
    "import pandas as pd\n",
    "from concurrent.futures import ThreadPoolExecutor, as_completed\n",
    "import time\n",
    "\n",
    "twoM_data = pd.read_csv(\"pre_links.csv\", index_col=None)\n",
    "\n",
    "twoM_data.head()"
   ]
  },
  {
   "cell_type": "code",
   "execution_count": 3,
   "metadata": {},
   "outputs": [
    {
     "name": "stdout",
     "output_type": "stream",
     "text": [
      "99999\n"
     ]
    },
    {
     "data": {
      "text/html": [
       "<div>\n",
       "<style scoped>\n",
       "    .dataframe tbody tr th:only-of-type {\n",
       "        vertical-align: middle;\n",
       "    }\n",
       "\n",
       "    .dataframe tbody tr th {\n",
       "        vertical-align: top;\n",
       "    }\n",
       "\n",
       "    .dataframe thead th {\n",
       "        text-align: right;\n",
       "    }\n",
       "</style>\n",
       "<table border=\"1\" class=\"dataframe\">\n",
       "  <thead>\n",
       "    <tr style=\"text-align: right;\">\n",
       "      <th></th>\n",
       "      <th>links</th>\n",
       "    </tr>\n",
       "  </thead>\n",
       "  <tbody>\n",
       "    <tr>\n",
       "      <td>1500000</td>\n",
       "      <td>/Archives/edgar/data/1039828/00010398281700008...</td>\n",
       "    </tr>\n",
       "    <tr>\n",
       "      <td>1500001</td>\n",
       "      <td>/Archives/edgar/data/1039828/00010398281700007...</td>\n",
       "    </tr>\n",
       "    <tr>\n",
       "      <td>1500002</td>\n",
       "      <td>/Archives/edgar/data/1039828/00011046591703990...</td>\n",
       "    </tr>\n",
       "    <tr>\n",
       "      <td>1500003</td>\n",
       "      <td>/Archives/edgar/data/1039828/00011046591703897...</td>\n",
       "    </tr>\n",
       "    <tr>\n",
       "      <td>1500004</td>\n",
       "      <td>/Archives/edgar/data/1039828/00011046591703882...</td>\n",
       "    </tr>\n",
       "  </tbody>\n",
       "</table>\n",
       "</div>"
      ],
      "text/plain": [
       "                                                     links\n",
       "1500000  /Archives/edgar/data/1039828/00010398281700008...\n",
       "1500001  /Archives/edgar/data/1039828/00010398281700007...\n",
       "1500002  /Archives/edgar/data/1039828/00011046591703990...\n",
       "1500003  /Archives/edgar/data/1039828/00011046591703897...\n",
       "1500004  /Archives/edgar/data/1039828/00011046591703882..."
      ]
     },
     "execution_count": 3,
     "metadata": {},
     "output_type": "execute_result"
    }
   ],
   "source": [
    "twoM_0_2k = twoM_data[1500000:1599999]\n",
    "\n",
    "print(len(twoM_0_2k))\n",
    "twoM_0_2k.head()"
   ]
  },
  {
   "cell_type": "code",
   "execution_count": 4,
   "metadata": {},
   "outputs": [
    {
     "name": "stdout",
     "output_type": "stream",
     "text": [
      "Time Taken: 1119.416787s\n"
     ]
    }
   ],
   "source": [
    "with ThreadPoolExecutor(max_workers=None) as executor:\n",
    "    start = time.time()\n",
    "    extract_df_results = []\n",
    "    futures = [ executor.submit(extract_df_pre2, url) for url in twoM_0_2k['links']]\n",
    "    for result in as_completed(futures):\n",
    "        extract_df_results.append(result)\n",
    "    end = time.time()\n",
    "    print(\"Time Taken: {:.6f}s\".format(end-start))"
   ]
  },
  {
   "cell_type": "code",
   "execution_count": 4,
   "metadata": {},
   "outputs": [
    {
     "ename": "TypeError",
     "evalue": "'NoneType' object is not subscriptable",
     "output_type": "error",
     "traceback": [
      "\u001b[1;31m---------------------------------------------------------------------------\u001b[0m",
      "\u001b[1;31mTypeError\u001b[0m                                 Traceback (most recent call last)",
      "\u001b[1;32m<ipython-input-4-5160cc8db49a>\u001b[0m in \u001b[0;36m<module>\u001b[1;34m\u001b[0m\n\u001b[0;32m      1\u001b[0m \u001b[0mextracted_df_results\u001b[0m \u001b[1;33m=\u001b[0m \u001b[1;33m[\u001b[0m\u001b[1;33m]\u001b[0m\u001b[1;33m\u001b[0m\u001b[1;33m\u001b[0m\u001b[0m\n\u001b[0;32m      2\u001b[0m \u001b[1;32mfor\u001b[0m \u001b[0murl\u001b[0m \u001b[1;32min\u001b[0m \u001b[0mtwoM_0_2k\u001b[0m\u001b[1;33m[\u001b[0m\u001b[1;34m\"links\"\u001b[0m\u001b[1;33m]\u001b[0m\u001b[1;33m:\u001b[0m\u001b[1;33m\u001b[0m\u001b[1;33m\u001b[0m\u001b[0m\n\u001b[1;32m----> 3\u001b[1;33m     \u001b[0mextracted_df_results\u001b[0m\u001b[1;33m.\u001b[0m\u001b[0mappend\u001b[0m\u001b[1;33m(\u001b[0m\u001b[0mextract_df_pre2\u001b[0m\u001b[1;33m(\u001b[0m\u001b[0murl\u001b[0m\u001b[1;33m)\u001b[0m\u001b[1;33m)\u001b[0m\u001b[1;33m\u001b[0m\u001b[1;33m\u001b[0m\u001b[0m\n\u001b[0m",
      "\u001b[1;32m<ipython-input-1-1fd83526340d>\u001b[0m in \u001b[0;36mextract_df_pre2\u001b[1;34m(link)\u001b[0m\n\u001b[0;32m     24\u001b[0m         \u001b[1;32mfor\u001b[0m \u001b[0mi\u001b[0m \u001b[1;32min\u001b[0m \u001b[0mrange\u001b[0m\u001b[1;33m(\u001b[0m\u001b[0mlen\u001b[0m\u001b[1;33m(\u001b[0m\u001b[0mall_td\u001b[0m\u001b[1;33m)\u001b[0m\u001b[1;33m)\u001b[0m\u001b[1;33m:\u001b[0m\u001b[1;33m\u001b[0m\u001b[1;33m\u001b[0m\u001b[0m\n\u001b[0;32m     25\u001b[0m             \u001b[1;32mif\u001b[0m \u001b[0mall_td\u001b[0m\u001b[1;33m[\u001b[0m\u001b[0mi\u001b[0m\u001b[1;33m]\u001b[0m\u001b[1;33m.\u001b[0m\u001b[0mtext\u001b[0m \u001b[1;33m==\u001b[0m \u001b[1;34m'8-K'\u001b[0m\u001b[1;33m:\u001b[0m\u001b[1;33m\u001b[0m\u001b[1;33m\u001b[0m\u001b[0m\n\u001b[1;32m---> 26\u001b[1;33m                 \u001b[0mek_link\u001b[0m\u001b[1;33m.\u001b[0m\u001b[0mappend\u001b[0m\u001b[1;33m(\u001b[0m\u001b[0mall_td\u001b[0m\u001b[1;33m[\u001b[0m\u001b[0mi\u001b[0m\u001b[1;33m-\u001b[0m\u001b[1;36m1\u001b[0m\u001b[1;33m]\u001b[0m\u001b[1;33m.\u001b[0m\u001b[0ma\u001b[0m\u001b[1;33m[\u001b[0m\u001b[1;34m'href'\u001b[0m\u001b[1;33m]\u001b[0m\u001b[1;33m)\u001b[0m\u001b[1;33m\u001b[0m\u001b[1;33m\u001b[0m\u001b[0m\n\u001b[0m\u001b[0;32m     27\u001b[0m \u001b[1;33m\u001b[0m\u001b[0m\n\u001b[0;32m     28\u001b[0m     \u001b[0mdf\u001b[0m \u001b[1;33m=\u001b[0m \u001b[0mpd\u001b[0m\u001b[1;33m.\u001b[0m\u001b[0mDataFrame\u001b[0m\u001b[1;33m(\u001b[0m\u001b[1;33m{\u001b[0m\u001b[1;34m\"companyName\"\u001b[0m\u001b[1;33m:\u001b[0m \u001b[0mcompanyName\u001b[0m\u001b[1;33m,\u001b[0m \u001b[1;34m\"CIK\"\u001b[0m\u001b[1;33m:\u001b[0m \u001b[0mCIK\u001b[0m\u001b[1;33m,\u001b[0m \u001b[1;34m\"filedDate\"\u001b[0m\u001b[1;33m:\u001b[0m \u001b[0mfileDate\u001b[0m\u001b[1;33m,\u001b[0m \u001b[1;34m\"url\"\u001b[0m\u001b[1;33m:\u001b[0m \u001b[0mek_link\u001b[0m\u001b[1;33m}\u001b[0m\u001b[1;33m)\u001b[0m\u001b[1;33m\u001b[0m\u001b[1;33m\u001b[0m\u001b[0m\n",
      "\u001b[1;31mTypeError\u001b[0m: 'NoneType' object is not subscriptable"
     ]
    }
   ],
   "source": [
    "extracted_df_results = []\n",
    "for url in twoM_0_2k[\"links\"]:\n",
    "    extracted_df_results.append(extract_df_pre2(url))"
   ]
  },
  {
   "cell_type": "code",
   "execution_count": 5,
   "metadata": {},
   "outputs": [
    {
     "ename": "TypeError",
     "evalue": "'NoneType' object is not subscriptable",
     "output_type": "error",
     "traceback": [
      "\u001b[1;31m---------------------------------------------------------------------------\u001b[0m",
      "\u001b[1;31mTypeError\u001b[0m                                 Traceback (most recent call last)",
      "\u001b[1;32m<ipython-input-5-049d71ff4342>\u001b[0m in \u001b[0;36m<module>\u001b[1;34m\u001b[0m\n\u001b[1;32m----> 1\u001b[1;33m \u001b[0mextract_df_results\u001b[0m\u001b[1;33m[\u001b[0m\u001b[1;36m0\u001b[0m\u001b[1;33m]\u001b[0m\u001b[1;33m.\u001b[0m\u001b[0mresult\u001b[0m\u001b[1;33m(\u001b[0m\u001b[1;33m)\u001b[0m\u001b[1;33m\u001b[0m\u001b[1;33m\u001b[0m\u001b[0m\n\u001b[0m",
      "\u001b[1;32m~\\Anaconda3\\lib\\concurrent\\futures\\_base.py\u001b[0m in \u001b[0;36mresult\u001b[1;34m(self, timeout)\u001b[0m\n\u001b[0;32m    423\u001b[0m                 \u001b[1;32mraise\u001b[0m \u001b[0mCancelledError\u001b[0m\u001b[1;33m(\u001b[0m\u001b[1;33m)\u001b[0m\u001b[1;33m\u001b[0m\u001b[1;33m\u001b[0m\u001b[0m\n\u001b[0;32m    424\u001b[0m             \u001b[1;32melif\u001b[0m \u001b[0mself\u001b[0m\u001b[1;33m.\u001b[0m\u001b[0m_state\u001b[0m \u001b[1;33m==\u001b[0m \u001b[0mFINISHED\u001b[0m\u001b[1;33m:\u001b[0m\u001b[1;33m\u001b[0m\u001b[1;33m\u001b[0m\u001b[0m\n\u001b[1;32m--> 425\u001b[1;33m                 \u001b[1;32mreturn\u001b[0m \u001b[0mself\u001b[0m\u001b[1;33m.\u001b[0m\u001b[0m__get_result\u001b[0m\u001b[1;33m(\u001b[0m\u001b[1;33m)\u001b[0m\u001b[1;33m\u001b[0m\u001b[1;33m\u001b[0m\u001b[0m\n\u001b[0m\u001b[0;32m    426\u001b[0m \u001b[1;33m\u001b[0m\u001b[0m\n\u001b[0;32m    427\u001b[0m             \u001b[0mself\u001b[0m\u001b[1;33m.\u001b[0m\u001b[0m_condition\u001b[0m\u001b[1;33m.\u001b[0m\u001b[0mwait\u001b[0m\u001b[1;33m(\u001b[0m\u001b[0mtimeout\u001b[0m\u001b[1;33m)\u001b[0m\u001b[1;33m\u001b[0m\u001b[1;33m\u001b[0m\u001b[0m\n",
      "\u001b[1;32m~\\Anaconda3\\lib\\concurrent\\futures\\_base.py\u001b[0m in \u001b[0;36m__get_result\u001b[1;34m(self)\u001b[0m\n\u001b[0;32m    382\u001b[0m     \u001b[1;32mdef\u001b[0m \u001b[0m__get_result\u001b[0m\u001b[1;33m(\u001b[0m\u001b[0mself\u001b[0m\u001b[1;33m)\u001b[0m\u001b[1;33m:\u001b[0m\u001b[1;33m\u001b[0m\u001b[1;33m\u001b[0m\u001b[0m\n\u001b[0;32m    383\u001b[0m         \u001b[1;32mif\u001b[0m \u001b[0mself\u001b[0m\u001b[1;33m.\u001b[0m\u001b[0m_exception\u001b[0m\u001b[1;33m:\u001b[0m\u001b[1;33m\u001b[0m\u001b[1;33m\u001b[0m\u001b[0m\n\u001b[1;32m--> 384\u001b[1;33m             \u001b[1;32mraise\u001b[0m \u001b[0mself\u001b[0m\u001b[1;33m.\u001b[0m\u001b[0m_exception\u001b[0m\u001b[1;33m\u001b[0m\u001b[1;33m\u001b[0m\u001b[0m\n\u001b[0m\u001b[0;32m    385\u001b[0m         \u001b[1;32melse\u001b[0m\u001b[1;33m:\u001b[0m\u001b[1;33m\u001b[0m\u001b[1;33m\u001b[0m\u001b[0m\n\u001b[0;32m    386\u001b[0m             \u001b[1;32mreturn\u001b[0m \u001b[0mself\u001b[0m\u001b[1;33m.\u001b[0m\u001b[0m_result\u001b[0m\u001b[1;33m\u001b[0m\u001b[1;33m\u001b[0m\u001b[0m\n",
      "\u001b[1;32m~\\Anaconda3\\lib\\concurrent\\futures\\thread.py\u001b[0m in \u001b[0;36mrun\u001b[1;34m(self)\u001b[0m\n\u001b[0;32m     55\u001b[0m \u001b[1;33m\u001b[0m\u001b[0m\n\u001b[0;32m     56\u001b[0m         \u001b[1;32mtry\u001b[0m\u001b[1;33m:\u001b[0m\u001b[1;33m\u001b[0m\u001b[1;33m\u001b[0m\u001b[0m\n\u001b[1;32m---> 57\u001b[1;33m             \u001b[0mresult\u001b[0m \u001b[1;33m=\u001b[0m \u001b[0mself\u001b[0m\u001b[1;33m.\u001b[0m\u001b[0mfn\u001b[0m\u001b[1;33m(\u001b[0m\u001b[1;33m*\u001b[0m\u001b[0mself\u001b[0m\u001b[1;33m.\u001b[0m\u001b[0margs\u001b[0m\u001b[1;33m,\u001b[0m \u001b[1;33m**\u001b[0m\u001b[0mself\u001b[0m\u001b[1;33m.\u001b[0m\u001b[0mkwargs\u001b[0m\u001b[1;33m)\u001b[0m\u001b[1;33m\u001b[0m\u001b[1;33m\u001b[0m\u001b[0m\n\u001b[0m\u001b[0;32m     58\u001b[0m         \u001b[1;32mexcept\u001b[0m \u001b[0mBaseException\u001b[0m \u001b[1;32mas\u001b[0m \u001b[0mexc\u001b[0m\u001b[1;33m:\u001b[0m\u001b[1;33m\u001b[0m\u001b[1;33m\u001b[0m\u001b[0m\n\u001b[0;32m     59\u001b[0m             \u001b[0mself\u001b[0m\u001b[1;33m.\u001b[0m\u001b[0mfuture\u001b[0m\u001b[1;33m.\u001b[0m\u001b[0mset_exception\u001b[0m\u001b[1;33m(\u001b[0m\u001b[0mexc\u001b[0m\u001b[1;33m)\u001b[0m\u001b[1;33m\u001b[0m\u001b[1;33m\u001b[0m\u001b[0m\n",
      "\u001b[1;32m<ipython-input-1-1fd83526340d>\u001b[0m in \u001b[0;36mextract_df_pre2\u001b[1;34m(link)\u001b[0m\n\u001b[0;32m     24\u001b[0m         \u001b[1;32mfor\u001b[0m \u001b[0mi\u001b[0m \u001b[1;32min\u001b[0m \u001b[0mrange\u001b[0m\u001b[1;33m(\u001b[0m\u001b[0mlen\u001b[0m\u001b[1;33m(\u001b[0m\u001b[0mall_td\u001b[0m\u001b[1;33m)\u001b[0m\u001b[1;33m)\u001b[0m\u001b[1;33m:\u001b[0m\u001b[1;33m\u001b[0m\u001b[1;33m\u001b[0m\u001b[0m\n\u001b[0;32m     25\u001b[0m             \u001b[1;32mif\u001b[0m \u001b[0mall_td\u001b[0m\u001b[1;33m[\u001b[0m\u001b[0mi\u001b[0m\u001b[1;33m]\u001b[0m\u001b[1;33m.\u001b[0m\u001b[0mtext\u001b[0m \u001b[1;33m==\u001b[0m \u001b[1;34m'8-K'\u001b[0m\u001b[1;33m:\u001b[0m\u001b[1;33m\u001b[0m\u001b[1;33m\u001b[0m\u001b[0m\n\u001b[1;32m---> 26\u001b[1;33m                 \u001b[0mek_link\u001b[0m\u001b[1;33m.\u001b[0m\u001b[0mappend\u001b[0m\u001b[1;33m(\u001b[0m\u001b[0mall_td\u001b[0m\u001b[1;33m[\u001b[0m\u001b[0mi\u001b[0m\u001b[1;33m-\u001b[0m\u001b[1;36m1\u001b[0m\u001b[1;33m]\u001b[0m\u001b[1;33m.\u001b[0m\u001b[0ma\u001b[0m\u001b[1;33m[\u001b[0m\u001b[1;34m'href'\u001b[0m\u001b[1;33m]\u001b[0m\u001b[1;33m)\u001b[0m\u001b[1;33m\u001b[0m\u001b[1;33m\u001b[0m\u001b[0m\n\u001b[0m\u001b[0;32m     27\u001b[0m \u001b[1;33m\u001b[0m\u001b[0m\n\u001b[0;32m     28\u001b[0m     \u001b[0mdf\u001b[0m \u001b[1;33m=\u001b[0m \u001b[0mpd\u001b[0m\u001b[1;33m.\u001b[0m\u001b[0mDataFrame\u001b[0m\u001b[1;33m(\u001b[0m\u001b[1;33m{\u001b[0m\u001b[1;34m\"companyName\"\u001b[0m\u001b[1;33m:\u001b[0m \u001b[0mcompanyName\u001b[0m\u001b[1;33m,\u001b[0m \u001b[1;34m\"CIK\"\u001b[0m\u001b[1;33m:\u001b[0m \u001b[0mCIK\u001b[0m\u001b[1;33m,\u001b[0m \u001b[1;34m\"filedDate\"\u001b[0m\u001b[1;33m:\u001b[0m \u001b[0mfileDate\u001b[0m\u001b[1;33m,\u001b[0m \u001b[1;34m\"url\"\u001b[0m\u001b[1;33m:\u001b[0m \u001b[0mek_link\u001b[0m\u001b[1;33m}\u001b[0m\u001b[1;33m)\u001b[0m\u001b[1;33m\u001b[0m\u001b[1;33m\u001b[0m\u001b[0m\n",
      "\u001b[1;31mTypeError\u001b[0m: 'NoneType' object is not subscriptable"
     ]
    }
   ],
   "source": [
    "extract_df_results[0].result()"
   ]
  },
  {
   "cell_type": "code",
   "execution_count": 6,
   "metadata": {},
   "outputs": [
    {
     "data": {
      "text/html": [
       "<div>\n",
       "<style scoped>\n",
       "    .dataframe tbody tr th:only-of-type {\n",
       "        vertical-align: middle;\n",
       "    }\n",
       "\n",
       "    .dataframe tbody tr th {\n",
       "        vertical-align: top;\n",
       "    }\n",
       "\n",
       "    .dataframe thead th {\n",
       "        text-align: right;\n",
       "    }\n",
       "</style>\n",
       "<table border=\"1\" class=\"dataframe\">\n",
       "  <thead>\n",
       "    <tr style=\"text-align: right;\">\n",
       "      <th></th>\n",
       "      <th>companyName</th>\n",
       "      <th>CIK</th>\n",
       "      <th>filedDate</th>\n",
       "      <th>url</th>\n",
       "    </tr>\n",
       "  </thead>\n",
       "  <tbody>\n",
       "    <tr>\n",
       "      <td>0</td>\n",
       "      <td>AMERICAN EQUITY INVESTMENT LIFE HOLDING CO</td>\n",
       "      <td>1039828</td>\n",
       "      <td>2016-06-08</td>\n",
       "      <td>/Archives/edgar/data/1039828/00010398281600022...</td>\n",
       "    </tr>\n",
       "    <tr>\n",
       "      <td>0</td>\n",
       "      <td>AMERICAN EQUITY INVESTMENT LIFE HOLDING CO</td>\n",
       "      <td>1039828</td>\n",
       "      <td>2016-07-01</td>\n",
       "      <td>/Archives/edgar/data/1039828/00010398281600023...</td>\n",
       "    </tr>\n",
       "    <tr>\n",
       "      <td>0</td>\n",
       "      <td>AMERICAN EQUITY INVESTMENT LIFE HOLDING CO</td>\n",
       "      <td>1039828</td>\n",
       "      <td>2016-10-03</td>\n",
       "      <td>/Archives/edgar/data/1039828/00013410041600166...</td>\n",
       "    </tr>\n",
       "    <tr>\n",
       "      <td>0</td>\n",
       "      <td>AMERICAN EQUITY INVESTMENT LIFE HOLDING CO</td>\n",
       "      <td>1039828</td>\n",
       "      <td>2016-06-16</td>\n",
       "      <td>/Archives/edgar/data/1039828/00010398281600022...</td>\n",
       "    </tr>\n",
       "    <tr>\n",
       "      <td>0</td>\n",
       "      <td>AMERICAN EQUITY INVESTMENT LIFE HOLDING CO</td>\n",
       "      <td>1039828</td>\n",
       "      <td>2016-08-01</td>\n",
       "      <td>/Archives/edgar/data/1039828/00010398281600023...</td>\n",
       "    </tr>\n",
       "    <tr>\n",
       "      <td>...</td>\n",
       "      <td>...</td>\n",
       "      <td>...</td>\n",
       "      <td>...</td>\n",
       "      <td>...</td>\n",
       "    </tr>\n",
       "    <tr>\n",
       "      <td>0</td>\n",
       "      <td>Symetra Financial CORP</td>\n",
       "      <td>1403385</td>\n",
       "      <td>2014-01-30</td>\n",
       "      <td>/Archives/edgar/data/1403385/00014033851400000...</td>\n",
       "    </tr>\n",
       "    <tr>\n",
       "      <td>0</td>\n",
       "      <td>Symetra Financial CORP</td>\n",
       "      <td>1403385</td>\n",
       "      <td>2015-10-28</td>\n",
       "      <td>/Archives/edgar/data/1403385/00009501571500125...</td>\n",
       "    </tr>\n",
       "    <tr>\n",
       "      <td>0</td>\n",
       "      <td>Symetra Financial CORP</td>\n",
       "      <td>1403385</td>\n",
       "      <td>2013-05-07</td>\n",
       "      <td>/Archives/edgar/data/1403385/00012999331300084...</td>\n",
       "    </tr>\n",
       "    <tr>\n",
       "      <td>0</td>\n",
       "      <td>Symetra Financial CORP</td>\n",
       "      <td>1403385</td>\n",
       "      <td>2013-04-24</td>\n",
       "      <td>/Archives/edgar/data/1403385/00011931251317044...</td>\n",
       "    </tr>\n",
       "    <tr>\n",
       "      <td>0</td>\n",
       "      <td>Symetra Financial CORP</td>\n",
       "      <td>1403385</td>\n",
       "      <td>2013-03-08</td>\n",
       "      <td>/Archives/edgar/data/1403385/00011931251309869...</td>\n",
       "    </tr>\n",
       "  </tbody>\n",
       "</table>\n",
       "<p>4958 rows × 4 columns</p>\n",
       "</div>"
      ],
      "text/plain": [
       "                                   companyName      CIK   filedDate  \\\n",
       "0   AMERICAN EQUITY INVESTMENT LIFE HOLDING CO  1039828  2016-06-08   \n",
       "0   AMERICAN EQUITY INVESTMENT LIFE HOLDING CO  1039828  2016-07-01   \n",
       "0   AMERICAN EQUITY INVESTMENT LIFE HOLDING CO  1039828  2016-10-03   \n",
       "0   AMERICAN EQUITY INVESTMENT LIFE HOLDING CO  1039828  2016-06-16   \n",
       "0   AMERICAN EQUITY INVESTMENT LIFE HOLDING CO  1039828  2016-08-01   \n",
       "..                                         ...      ...         ...   \n",
       "0                       Symetra Financial CORP  1403385  2014-01-30   \n",
       "0                       Symetra Financial CORP  1403385  2015-10-28   \n",
       "0                       Symetra Financial CORP  1403385  2013-05-07   \n",
       "0                       Symetra Financial CORP  1403385  2013-04-24   \n",
       "0                       Symetra Financial CORP  1403385  2013-03-08   \n",
       "\n",
       "                                                  url  \n",
       "0   /Archives/edgar/data/1039828/00010398281600022...  \n",
       "0   /Archives/edgar/data/1039828/00010398281600023...  \n",
       "0   /Archives/edgar/data/1039828/00013410041600166...  \n",
       "0   /Archives/edgar/data/1039828/00010398281600022...  \n",
       "0   /Archives/edgar/data/1039828/00010398281600023...  \n",
       "..                                                ...  \n",
       "0   /Archives/edgar/data/1403385/00014033851400000...  \n",
       "0   /Archives/edgar/data/1403385/00009501571500125...  \n",
       "0   /Archives/edgar/data/1403385/00012999331300084...  \n",
       "0   /Archives/edgar/data/1403385/00011931251317044...  \n",
       "0   /Archives/edgar/data/1403385/00011931251309869...  \n",
       "\n",
       "[4958 rows x 4 columns]"
      ]
     },
     "execution_count": 6,
     "metadata": {},
     "output_type": "execute_result"
    }
   ],
   "source": [
    "df_results = []\n",
    "\n",
    "for i in extract_df_results:\n",
    "    try:\n",
    "        df_results.append(i.result())\n",
    "    except:\n",
    "        pass\n",
    "    \n",
    "combined = pd.concat(df_results)\n",
    "\n",
    "combined"
   ]
  },
  {
   "cell_type": "code",
   "execution_count": 7,
   "metadata": {},
   "outputs": [],
   "source": [
    "combined.to_csv(\"first2mil-remain.csv\")"
   ]
  },
  {
   "cell_type": "code",
   "execution_count": 1,
   "metadata": {},
   "outputs": [],
   "source": [
    "import pandas as pd\n",
    "df_1 = pd.read_csv(\"first2mil-remain.csv\")\n",
    "df_2 = pd.read_csv(\"first1-200m.csv\")\n",
    "df_3 = pd.read_csv(\"first12-400m.csv\")\n",
    "df_4 = pd.read_csv(\"first14-600m.csv\")\n",
    "df_5 = pd.read_csv(\"first16-800m.csv\")\n",
    "df_6 = pd.read_csv(\"first18-200m.csv\")"
   ]
  },
  {
   "cell_type": "code",
   "execution_count": 4,
   "metadata": {},
   "outputs": [
    {
     "data": {
      "text/html": [
       "<div>\n",
       "<style scoped>\n",
       "    .dataframe tbody tr th:only-of-type {\n",
       "        vertical-align: middle;\n",
       "    }\n",
       "\n",
       "    .dataframe tbody tr th {\n",
       "        vertical-align: top;\n",
       "    }\n",
       "\n",
       "    .dataframe thead th {\n",
       "        text-align: right;\n",
       "    }\n",
       "</style>\n",
       "<table border=\"1\" class=\"dataframe\">\n",
       "  <thead>\n",
       "    <tr style=\"text-align: right;\">\n",
       "      <th></th>\n",
       "      <th>Unnamed: 0</th>\n",
       "      <th>companyName</th>\n",
       "      <th>CIK</th>\n",
       "      <th>filedDate</th>\n",
       "      <th>url</th>\n",
       "    </tr>\n",
       "  </thead>\n",
       "  <tbody>\n",
       "    <tr>\n",
       "      <td>0</td>\n",
       "      <td>0</td>\n",
       "      <td>VESTIN GROUP INC</td>\n",
       "      <td>1068132</td>\n",
       "      <td>2002-04-25</td>\n",
       "      <td>/Archives/edgar/data/1068132/00009501500200037...</td>\n",
       "    </tr>\n",
       "    <tr>\n",
       "      <td>1</td>\n",
       "      <td>0</td>\n",
       "      <td>VESTIN GROUP INC</td>\n",
       "      <td>1068132</td>\n",
       "      <td>2005-03-28</td>\n",
       "      <td>/Archives/edgar/data/1068132/00009501290500287...</td>\n",
       "    </tr>\n",
       "    <tr>\n",
       "      <td>2</td>\n",
       "      <td>0</td>\n",
       "      <td>SUNDERLAND ACQUISITION CORP</td>\n",
       "      <td>1068132</td>\n",
       "      <td>1999-05-04</td>\n",
       "      <td>/Archives/edgar/data/1068132/</td>\n",
       "    </tr>\n",
       "    <tr>\n",
       "      <td>3</td>\n",
       "      <td>0</td>\n",
       "      <td>SUNDERLAND CORP</td>\n",
       "      <td>1068132</td>\n",
       "      <td>1999-12-17</td>\n",
       "      <td>/Archives/edgar/data/1068132/000091205799009827/</td>\n",
       "    </tr>\n",
       "    <tr>\n",
       "      <td>4</td>\n",
       "      <td>0</td>\n",
       "      <td>VESTIN GROUP INC</td>\n",
       "      <td>1068132</td>\n",
       "      <td>2003-08-08</td>\n",
       "      <td>/Archives/edgar/data/1068132/00011575230300388...</td>\n",
       "    </tr>\n",
       "  </tbody>\n",
       "</table>\n",
       "</div>"
      ],
      "text/plain": [
       "   Unnamed: 0                  companyName      CIK   filedDate  \\\n",
       "0           0             VESTIN GROUP INC  1068132  2002-04-25   \n",
       "1           0             VESTIN GROUP INC  1068132  2005-03-28   \n",
       "2           0  SUNDERLAND ACQUISITION CORP  1068132  1999-05-04   \n",
       "3           0              SUNDERLAND CORP  1068132  1999-12-17   \n",
       "4           0             VESTIN GROUP INC  1068132  2003-08-08   \n",
       "\n",
       "                                                 url  \n",
       "0  /Archives/edgar/data/1068132/00009501500200037...  \n",
       "1  /Archives/edgar/data/1068132/00009501290500287...  \n",
       "2                      /Archives/edgar/data/1068132/  \n",
       "3   /Archives/edgar/data/1068132/000091205799009827/  \n",
       "4  /Archives/edgar/data/1068132/00011575230300388...  "
      ]
     },
     "execution_count": 4,
     "metadata": {},
     "output_type": "execute_result"
    }
   ],
   "source": [
    "list_df = [df_1,df_2,df_3,df_4,df_5,df_6]\n",
    "df_new = pd.concat(list_df)\n",
    "df_new.head()"
   ]
  },
  {
   "cell_type": "code",
   "execution_count": 5,
   "metadata": {},
   "outputs": [],
   "source": [
    "df_new.to_csv(\"1mill to end.csv\")"
   ]
  },
  {
   "cell_type": "markdown",
   "metadata": {},
   "source": [
    "## The Extraction code starts here"
   ]
  },
  {
   "cell_type": "code",
   "execution_count": 3,
   "metadata": {},
   "outputs": [],
   "source": [
    "import pandas as pd\n",
    "df1 = pd.read_csv(r\"Data\\0-100k.csv\")\n",
    "df2 = pd.read_csv(r\"Data\\100-199k.csv\")\n",
    "df3 = pd.read_csv(r\"Data\\200-399k.csv\")\n",
    "df4 = pd.read_csv(r\"Data\\400-499k.csv\")\n",
    "df5 = pd.read_csv(r\"Data\\500-599k.csv\")\n",
    "df6 = pd.read_csv(r\"Data\\600-699k.csv\")\n",
    "df7 = pd.read_csv(r\"Data\\700-799k.csv\")\n",
    "df8 = pd.read_csv(r\"Data\\800-899k.csv\")\n",
    "df9 = pd.read_csv(r\"Data\\1100-1199k.csv\")\n",
    "df10 = pd.read_csv(r\"Data\\1200-1299k.csv\")\n",
    "df11 = pd.read_csv(r\"Data\\1300-1399k.csv\")\n",
    "df12 = pd.read_csv(r\"Data\\1400-1499k.csv\")\n",
    "df13 = pd.read_csv(r\"Data\\1500-1599k.csv\")\n",
    "df14 = pd.read_csv(r\"Data\\1600-1699k.csv\")\n",
    "df15 = pd.read_csv(r\"Data\\1700-1799k.csv\")\n",
    "df16 = pd.read_csv(r\"Data\\1800-1899k.csv\")\n",
    "df17 = pd.read_csv(r\"Data\\1900-1999k.csv\")"
   ]
  },
  {
   "cell_type": "code",
   "execution_count": 4,
   "metadata": {},
   "outputs": [],
   "source": [
    "df_final = pd.concat([df1,df2,df3,df4,df5,df6,df7,df8,df9,df10,df11,df12,df13,df14,df15,df16,df17])"
   ]
  },
  {
   "cell_type": "code",
   "execution_count": 6,
   "metadata": {},
   "outputs": [
    {
     "name": "stdout",
     "output_type": "stream",
     "text": [
      "1184024\n"
     ]
    },
    {
     "data": {
      "text/html": [
       "<div>\n",
       "<style scoped>\n",
       "    .dataframe tbody tr th:only-of-type {\n",
       "        vertical-align: middle;\n",
       "    }\n",
       "\n",
       "    .dataframe tbody tr th {\n",
       "        vertical-align: top;\n",
       "    }\n",
       "\n",
       "    .dataframe thead th {\n",
       "        text-align: right;\n",
       "    }\n",
       "</style>\n",
       "<table border=\"1\" class=\"dataframe\">\n",
       "  <thead>\n",
       "    <tr style=\"text-align: right;\">\n",
       "      <th></th>\n",
       "      <th>companyName</th>\n",
       "      <th>CIK</th>\n",
       "      <th>filedDate</th>\n",
       "      <th>url</th>\n",
       "    </tr>\n",
       "  </thead>\n",
       "  <tbody>\n",
       "    <tr>\n",
       "      <td>0</td>\n",
       "      <td>Avangard Capital Group, Inc</td>\n",
       "      <td>1561092</td>\n",
       "      <td>2013-04-02</td>\n",
       "      <td>/Archives/edgar/data/1561092/00014931521300058...</td>\n",
       "    </tr>\n",
       "    <tr>\n",
       "      <td>1</td>\n",
       "      <td>Avangard Capital Group, Inc</td>\n",
       "      <td>1561092</td>\n",
       "      <td>2013-04-02</td>\n",
       "      <td>/Archives/edgar/data/1561092/00014931521300058...</td>\n",
       "    </tr>\n",
       "    <tr>\n",
       "      <td>2</td>\n",
       "      <td>AIRLEASE LTD</td>\n",
       "      <td>799033</td>\n",
       "      <td>2004-01-29</td>\n",
       "      <td>/Archives/edgar/data/799033/000109230604000050...</td>\n",
       "    </tr>\n",
       "    <tr>\n",
       "      <td>3</td>\n",
       "      <td>AIRLEASE LTD</td>\n",
       "      <td>799033</td>\n",
       "      <td>2002-08-28</td>\n",
       "      <td>/Archives/edgar/data/799033/000109230602000291...</td>\n",
       "    </tr>\n",
       "    <tr>\n",
       "      <td>4</td>\n",
       "      <td>AIRLEASE LTD</td>\n",
       "      <td>799033</td>\n",
       "      <td>2004-09-30</td>\n",
       "      <td>/Archives/edgar/data/799033/000109230604000729...</td>\n",
       "    </tr>\n",
       "  </tbody>\n",
       "</table>\n",
       "</div>"
      ],
      "text/plain": [
       "                   companyName      CIK   filedDate  \\\n",
       "0  Avangard Capital Group, Inc  1561092  2013-04-02   \n",
       "1  Avangard Capital Group, Inc  1561092  2013-04-02   \n",
       "2                 AIRLEASE LTD   799033  2004-01-29   \n",
       "3                 AIRLEASE LTD   799033  2002-08-28   \n",
       "4                 AIRLEASE LTD   799033  2004-09-30   \n",
       "\n",
       "                                                 url  \n",
       "0  /Archives/edgar/data/1561092/00014931521300058...  \n",
       "1  /Archives/edgar/data/1561092/00014931521300058...  \n",
       "2  /Archives/edgar/data/799033/000109230604000050...  \n",
       "3  /Archives/edgar/data/799033/000109230602000291...  \n",
       "4  /Archives/edgar/data/799033/000109230604000729...  "
      ]
     },
     "execution_count": 6,
     "metadata": {},
     "output_type": "execute_result"
    }
   ],
   "source": [
    "print(len(df_final))\n",
    "df_final.head()"
   ]
  },
  {
   "cell_type": "code",
   "execution_count": 7,
   "metadata": {},
   "outputs": [],
   "source": [
    "df_final.to_csv(\"compiled_urls.csv\")"
   ]
  },
  {
   "cell_type": "code",
   "execution_count": 46,
   "metadata": {},
   "outputs": [],
   "source": [
    "link = df_final[\"url\"].iloc[0]"
   ]
  },
  {
   "cell_type": "code",
   "execution_count": 47,
   "metadata": {},
   "outputs": [],
   "source": [
    "base_url = \"http://www.sec.gov\"\n",
    "ek_url = base_url + link"
   ]
  },
  {
   "cell_type": "code",
   "execution_count": 48,
   "metadata": {},
   "outputs": [
    {
     "data": {
      "text/plain": [
       "'http://www.sec.gov/Archives/edgar/data/1561092/000149315213000582/form8k.htm'"
      ]
     },
     "execution_count": 48,
     "metadata": {},
     "output_type": "execute_result"
    }
   ],
   "source": [
    "ek_url\n",
    "#str(ek_url).split(\",\")"
   ]
  },
  {
   "cell_type": "code",
   "execution_count": 50,
   "metadata": {},
   "outputs": [],
   "source": [
    "from bs4 import BeautifulSoup\n",
    "import requests\n",
    "import re\n",
    "import pandas as pd\n",
    "from concurrent.futures import ThreadPoolExecutor, as_completed\n",
    "import time"
   ]
  },
  {
   "cell_type": "markdown",
   "metadata": {},
   "source": [
    "## Managed to get the text but the page has to be 8k page"
   ]
  },
  {
   "cell_type": "code",
   "execution_count": 75,
   "metadata": {},
   "outputs": [
    {
     "data": {
      "text/plain": [
       "'On\\nMarch 26, 2013, Avangard Capital Group, Inc.(“we”, “us”, or “our”) entered into an Retail\\nInstallment Contract Receivable Purchase Agreement (the “Purchase Agreement”) with Avangard Auto Finance, Inc. and\\nAvangard Financial Group, Inc. (the “Sellers”), both of whom are our affiliates. Under the terms of the Purchase Agreement,\\nwe agreed to pay the Sellers $102,250 (the “Purchase Price”) to purchase certain of their retail installment contract\\nreceivables as of the date of the agreement. These amounts include an aggregate principal balance of approximately $141,868for\\ncurrent loans receivables (the “Current Loans”) and an aggregate principal balance of approximately $323,449 for non-current\\nloans receivables (the “Non-Current Loans”). The Purchase Price has been allocated as follows: $100,000 for the Current\\nLoans which we will pay upon execution of the agreement and $2,250 has been allocated to the Non-Current Loans payable which we\\nwill pay within thirty (30) days of the agreement or upon completion of our due diligence, whichever occurs first. The Sellers\\nguaranteed to us that we will recover no less than 70% of the aggregate amount of the Current Loans. If we recover less than 70%\\nof the aggregate amount of the Current Loans, the Sellers shall pay the difference to us upon demand.'"
      ]
     },
     "execution_count": 75,
     "metadata": {},
     "output_type": "execute_result"
    }
   ],
   "source": [
    "page_response_p = requests.get(ek_url, timeout=5)\n",
    "page_content_p = BeautifulSoup(page_response_p.content, \"html.parser\")\n",
    "\n",
    "split_name_cik = page_content_p.find_all('font', attrs = {'style': 'font: 10pt Times New Roman, Times, Serif'})#.text.split(' (Filer)')\n",
    "split_name_cik[45].text"
   ]
  },
  {
   "cell_type": "code",
   "execution_count": 80,
   "metadata": {},
   "outputs": [],
   "source": [
    "def extract_final():\n",
    "    info = []\n",
    "    for i in df_final[\"url\"].values:\n",
    "        base_url = \"http://www.sec.gov\"\n",
    "        ek_url = base_url + i \n",
    "        page_response_p = requests.get(ek_url, timeout=5)\n",
    "        page_content_p = BeautifulSoup(page_response_p.content, \"html.parser\")\n",
    "\n",
    "        split_name_cik = page_content_p.find_all('font', attrs = {'style': 'font: 10pt Times New Roman, Times, Serif'})#.text.split(' (Filer)')\n",
    "        para = split_name_cik[45].text\n",
    "        info.append(para)\n",
    "    return info"
   ]
  },
  {
   "cell_type": "markdown",
   "metadata": {},
   "source": [
    "## Stuck, not the same page for all urls"
   ]
  },
  {
   "cell_type": "code",
   "execution_count": 81,
   "metadata": {},
   "outputs": [
    {
     "ename": "IndexError",
     "evalue": "list index out of range",
     "output_type": "error",
     "traceback": [
      "\u001b[1;31m---------------------------------------------------------------------------\u001b[0m",
      "\u001b[1;31mIndexError\u001b[0m                                Traceback (most recent call last)",
      "\u001b[1;32m<ipython-input-81-a5b03fdf6f37>\u001b[0m in \u001b[0;36m<module>\u001b[1;34m\u001b[0m\n\u001b[1;32m----> 1\u001b[1;33m \u001b[0minfo\u001b[0m \u001b[1;33m=\u001b[0m \u001b[0mextract_final\u001b[0m\u001b[1;33m(\u001b[0m\u001b[1;33m)\u001b[0m\u001b[1;33m\u001b[0m\u001b[1;33m\u001b[0m\u001b[0m\n\u001b[0m",
      "\u001b[1;32m<ipython-input-80-d545d36aef3d>\u001b[0m in \u001b[0;36mextract_final\u001b[1;34m()\u001b[0m\n\u001b[0;32m      8\u001b[0m \u001b[1;33m\u001b[0m\u001b[0m\n\u001b[0;32m      9\u001b[0m         \u001b[0msplit_name_cik\u001b[0m \u001b[1;33m=\u001b[0m \u001b[0mpage_content_p\u001b[0m\u001b[1;33m.\u001b[0m\u001b[0mfind_all\u001b[0m\u001b[1;33m(\u001b[0m\u001b[1;34m'font'\u001b[0m\u001b[1;33m,\u001b[0m \u001b[0mattrs\u001b[0m \u001b[1;33m=\u001b[0m \u001b[1;33m{\u001b[0m\u001b[1;34m'style'\u001b[0m\u001b[1;33m:\u001b[0m \u001b[1;34m'font: 10pt Times New Roman, Times, Serif'\u001b[0m\u001b[1;33m}\u001b[0m\u001b[1;33m)\u001b[0m\u001b[1;31m#.text.split(' (Filer)')\u001b[0m\u001b[1;33m\u001b[0m\u001b[1;33m\u001b[0m\u001b[0m\n\u001b[1;32m---> 10\u001b[1;33m         \u001b[0mpara\u001b[0m \u001b[1;33m=\u001b[0m \u001b[0msplit_name_cik\u001b[0m\u001b[1;33m[\u001b[0m\u001b[1;36m45\u001b[0m\u001b[1;33m]\u001b[0m\u001b[1;33m.\u001b[0m\u001b[0mtext\u001b[0m\u001b[1;33m\u001b[0m\u001b[1;33m\u001b[0m\u001b[0m\n\u001b[0m\u001b[0;32m     11\u001b[0m         \u001b[0minfo\u001b[0m\u001b[1;33m.\u001b[0m\u001b[0mappend\u001b[0m\u001b[1;33m(\u001b[0m\u001b[0mpara\u001b[0m\u001b[1;33m)\u001b[0m\u001b[1;33m\u001b[0m\u001b[1;33m\u001b[0m\u001b[0m\n\u001b[0;32m     12\u001b[0m     \u001b[1;32mreturn\u001b[0m \u001b[0minfo\u001b[0m\u001b[1;33m\u001b[0m\u001b[1;33m\u001b[0m\u001b[0m\n",
      "\u001b[1;31mIndexError\u001b[0m: list index out of range"
     ]
    }
   ],
   "source": [
    "info = extract_final()"
   ]
  },
  {
   "cell_type": "code",
   "execution_count": null,
   "metadata": {},
   "outputs": [],
   "source": []
  }
 ],
 "metadata": {
  "kernelspec": {
   "display_name": "Python 3",
   "language": "python",
   "name": "python3"
  },
  "language_info": {
   "codemirror_mode": {
    "name": "ipython",
    "version": 3
   },
   "file_extension": ".py",
   "mimetype": "text/x-python",
   "name": "python",
   "nbconvert_exporter": "python",
   "pygments_lexer": "ipython3",
   "version": "3.7.3"
  }
 },
 "nbformat": 4,
 "nbformat_minor": 2
}
