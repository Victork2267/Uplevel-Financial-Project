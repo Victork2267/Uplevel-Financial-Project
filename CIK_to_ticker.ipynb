{
 "cells": [
  {
   "cell_type": "code",
   "execution_count": 1,
   "metadata": {
    "colab": {},
    "colab_type": "code",
    "id": "kRjuLea0d2Nf"
   },
   "outputs": [],
   "source": [
    "import pandas as pd\n",
    "import numpy as np"
   ]
  },
  {
   "cell_type": "code",
   "execution_count": 2,
   "metadata": {
    "colab": {
     "base_uri": "https://localhost:8080/",
     "height": 204
    },
    "colab_type": "code",
    "id": "gF041xmfeHu2",
    "outputId": "1510f9ee-4c24-42f7-f2ae-da0d6c7af43d"
   },
   "outputs": [
    {
     "data": {
      "text/html": [
       "<div>\n",
       "<style scoped>\n",
       "    .dataframe tbody tr th:only-of-type {\n",
       "        vertical-align: middle;\n",
       "    }\n",
       "\n",
       "    .dataframe tbody tr th {\n",
       "        vertical-align: top;\n",
       "    }\n",
       "\n",
       "    .dataframe thead th {\n",
       "        text-align: right;\n",
       "    }\n",
       "</style>\n",
       "<table border=\"1\" class=\"dataframe\">\n",
       "  <thead>\n",
       "    <tr style=\"text-align: right;\">\n",
       "      <th></th>\n",
       "      <th>CIK</th>\n",
       "      <th>Ticker</th>\n",
       "      <th>Name</th>\n",
       "      <th>Exchange</th>\n",
       "      <th>SIC</th>\n",
       "      <th>Business</th>\n",
       "      <th>Incorporated</th>\n",
       "      <th>IRS</th>\n",
       "    </tr>\n",
       "  </thead>\n",
       "  <tbody>\n",
       "    <tr>\n",
       "      <td>0</td>\n",
       "      <td>1090872</td>\n",
       "      <td>A</td>\n",
       "      <td>Agilent Technologies Inc</td>\n",
       "      <td>NYSE</td>\n",
       "      <td>3825.0</td>\n",
       "      <td>CA</td>\n",
       "      <td>DE</td>\n",
       "      <td>770518772.0</td>\n",
       "    </tr>\n",
       "    <tr>\n",
       "      <td>1</td>\n",
       "      <td>4281</td>\n",
       "      <td>AA</td>\n",
       "      <td>Alcoa Inc</td>\n",
       "      <td>NYSE</td>\n",
       "      <td>3350.0</td>\n",
       "      <td>PA</td>\n",
       "      <td>PA</td>\n",
       "      <td>250317820.0</td>\n",
       "    </tr>\n",
       "    <tr>\n",
       "      <td>2</td>\n",
       "      <td>1332552</td>\n",
       "      <td>AAACU</td>\n",
       "      <td>Asia Automotive Acquisition Corp</td>\n",
       "      <td>NaN</td>\n",
       "      <td>6770.0</td>\n",
       "      <td>DE</td>\n",
       "      <td>DE</td>\n",
       "      <td>203022522.0</td>\n",
       "    </tr>\n",
       "    <tr>\n",
       "      <td>3</td>\n",
       "      <td>1287145</td>\n",
       "      <td>AABB</td>\n",
       "      <td>Asia Broadband Inc</td>\n",
       "      <td>OTC</td>\n",
       "      <td>8200.0</td>\n",
       "      <td>GA</td>\n",
       "      <td>NV</td>\n",
       "      <td>721569126.0</td>\n",
       "    </tr>\n",
       "    <tr>\n",
       "      <td>4</td>\n",
       "      <td>1024015</td>\n",
       "      <td>AABC</td>\n",
       "      <td>Access Anytime Bancorp Inc</td>\n",
       "      <td>NaN</td>\n",
       "      <td>6035.0</td>\n",
       "      <td>NM</td>\n",
       "      <td>DE</td>\n",
       "      <td>850444597.0</td>\n",
       "    </tr>\n",
       "  </tbody>\n",
       "</table>\n",
       "</div>"
      ],
      "text/plain": [
       "       CIK Ticker                              Name Exchange     SIC Business  \\\n",
       "0  1090872      A          Agilent Technologies Inc     NYSE  3825.0       CA   \n",
       "1     4281     AA                         Alcoa Inc     NYSE  3350.0       PA   \n",
       "2  1332552  AAACU  Asia Automotive Acquisition Corp      NaN  6770.0       DE   \n",
       "3  1287145   AABB                Asia Broadband Inc      OTC  8200.0       GA   \n",
       "4  1024015   AABC        Access Anytime Bancorp Inc      NaN  6035.0       NM   \n",
       "\n",
       "  Incorporated          IRS  \n",
       "0           DE  770518772.0  \n",
       "1           PA  250317820.0  \n",
       "2           DE  203022522.0  \n",
       "3           NV  721569126.0  \n",
       "4           DE  850444597.0  "
      ]
     },
     "execution_count": 2,
     "metadata": {},
     "output_type": "execute_result"
    }
   ],
   "source": [
    "ticker_df = pd.read_csv(r\"C:\\Users\\HO_YONG_KIAN\\Desktop\\Python\\Data Science for Python, Machine and Deep Learning\\Financial_Report\\cik_ticker.csv\", sep='|')\n",
    "\n",
    "ticker_df.head()"
   ]
  },
  {
   "cell_type": "code",
   "execution_count": 3,
   "metadata": {
    "colab": {
     "base_uri": "https://localhost:8080/",
     "height": 34
    },
    "colab_type": "code",
    "id": "uNumVRFRfvp9",
    "outputId": "06405d48-9dc8-492b-8b40-f0353cce37a4"
   },
   "outputs": [
    {
     "data": {
      "text/plain": [
       "13737"
      ]
     },
     "execution_count": 3,
     "metadata": {},
     "output_type": "execute_result"
    }
   ],
   "source": [
    "len(ticker_df)"
   ]
  },
  {
   "cell_type": "code",
   "execution_count": 4,
   "metadata": {
    "colab": {
     "base_uri": "https://localhost:8080/",
     "height": 204
    },
    "colab_type": "code",
    "id": "NNNehZ08eXpX",
    "outputId": "b49fa721-6e01-4bdc-8332-e17673b67af4"
   },
   "outputs": [
    {
     "data": {
      "text/html": [
       "<div>\n",
       "<style scoped>\n",
       "    .dataframe tbody tr th:only-of-type {\n",
       "        vertical-align: middle;\n",
       "    }\n",
       "\n",
       "    .dataframe tbody tr th {\n",
       "        vertical-align: top;\n",
       "    }\n",
       "\n",
       "    .dataframe thead th {\n",
       "        text-align: right;\n",
       "    }\n",
       "</style>\n",
       "<table border=\"1\" class=\"dataframe\">\n",
       "  <thead>\n",
       "    <tr style=\"text-align: right;\">\n",
       "      <th></th>\n",
       "      <th>companyName</th>\n",
       "      <th>CIK</th>\n",
       "      <th>filedDate</th>\n",
       "      <th>url</th>\n",
       "      <th>realfiledDate</th>\n",
       "      <th>form_text</th>\n",
       "    </tr>\n",
       "  </thead>\n",
       "  <tbody>\n",
       "    <tr>\n",
       "      <td>0</td>\n",
       "      <td>Avangard Capital Group, Inc</td>\n",
       "      <td>1561092</td>\n",
       "      <td>2014-01-03</td>\n",
       "      <td>/Archives/edgar/data/1561092/00014931521400000...</td>\n",
       "      <td>2014-01-03</td>\n",
       "      <td>\\n\\n \\n\\n \\n   \\nUNITED\\nSTATES\\nSECURITIES\\nA...</td>\n",
       "    </tr>\n",
       "    <tr>\n",
       "      <td>1</td>\n",
       "      <td>Avangard Capital Group, Inc</td>\n",
       "      <td>1561092</td>\n",
       "      <td>2014-07-25</td>\n",
       "      <td>/Archives/edgar/data/1561092/00014931521400228...</td>\n",
       "      <td>2014-07-25</td>\n",
       "      <td>\\n\\n \\n\\n \\n   \\nUNITED\\nSTATES\\nSECURITIES\\nA...</td>\n",
       "    </tr>\n",
       "    <tr>\n",
       "      <td>2</td>\n",
       "      <td>Avangard Capital Group, Inc</td>\n",
       "      <td>1561092</td>\n",
       "      <td>2014-01-03</td>\n",
       "      <td>/Archives/edgar/data/1561092/00014931521400000...</td>\n",
       "      <td>2014-01-03</td>\n",
       "      <td>\\n\\n \\n\\n \\n   \\nUNITED\\nSTATES\\nSECURITIES\\nA...</td>\n",
       "    </tr>\n",
       "    <tr>\n",
       "      <td>3</td>\n",
       "      <td>Avangard Capital Group, Inc</td>\n",
       "      <td>1561092</td>\n",
       "      <td>2014-07-25</td>\n",
       "      <td>/Archives/edgar/data/1561092/00014931521400228...</td>\n",
       "      <td>2014-07-25</td>\n",
       "      <td>\\n\\n \\n\\n \\n   \\nUNITED\\nSTATES\\nSECURITIES\\nA...</td>\n",
       "    </tr>\n",
       "    <tr>\n",
       "      <td>4</td>\n",
       "      <td>Avangard Capital Group, Inc</td>\n",
       "      <td>1561092</td>\n",
       "      <td>2014-07-25</td>\n",
       "      <td>/Archives/edgar/data/1561092/00014931521400228...</td>\n",
       "      <td>2014-07-25</td>\n",
       "      <td>\\n\\n \\n\\n \\n   \\nUNITED\\nSTATES\\nSECURITIES\\nA...</td>\n",
       "    </tr>\n",
       "  </tbody>\n",
       "</table>\n",
       "</div>"
      ],
      "text/plain": [
       "                   companyName      CIK   filedDate  \\\n",
       "0  Avangard Capital Group, Inc  1561092  2014-01-03   \n",
       "1  Avangard Capital Group, Inc  1561092  2014-07-25   \n",
       "2  Avangard Capital Group, Inc  1561092  2014-01-03   \n",
       "3  Avangard Capital Group, Inc  1561092  2014-07-25   \n",
       "4  Avangard Capital Group, Inc  1561092  2014-07-25   \n",
       "\n",
       "                                                 url realfiledDate  \\\n",
       "0  /Archives/edgar/data/1561092/00014931521400000...    2014-01-03   \n",
       "1  /Archives/edgar/data/1561092/00014931521400228...    2014-07-25   \n",
       "2  /Archives/edgar/data/1561092/00014931521400000...    2014-01-03   \n",
       "3  /Archives/edgar/data/1561092/00014931521400228...    2014-07-25   \n",
       "4  /Archives/edgar/data/1561092/00014931521400228...    2014-07-25   \n",
       "\n",
       "                                           form_text  \n",
       "0  \\n\\n \\n\\n \\n   \\nUNITED\\nSTATES\\nSECURITIES\\nA...  \n",
       "1  \\n\\n \\n\\n \\n   \\nUNITED\\nSTATES\\nSECURITIES\\nA...  \n",
       "2  \\n\\n \\n\\n \\n   \\nUNITED\\nSTATES\\nSECURITIES\\nA...  \n",
       "3  \\n\\n \\n\\n \\n   \\nUNITED\\nSTATES\\nSECURITIES\\nA...  \n",
       "4  \\n\\n \\n\\n \\n   \\nUNITED\\nSTATES\\nSECURITIES\\nA...  "
      ]
     },
     "execution_count": 4,
     "metadata": {},
     "output_type": "execute_result"
    }
   ],
   "source": [
    "text_df = pd.read_csv(r\"df_with_formtext.csv\", index_col=0)\n",
    "\n",
    "text_df.head()"
   ]
  },
  {
   "cell_type": "code",
   "execution_count": 5,
   "metadata": {
    "colab": {
     "base_uri": "https://localhost:8080/",
     "height": 34
    },
    "colab_type": "code",
    "id": "AVkAWay7iAhs",
    "outputId": "41e2aca2-b851-4e5c-b984-bed290f31c48"
   },
   "outputs": [
    {
     "data": {
      "text/plain": [
       "355812"
      ]
     },
     "execution_count": 5,
     "metadata": {},
     "output_type": "execute_result"
    }
   ],
   "source": [
    "len(text_df)"
   ]
  },
  {
   "cell_type": "code",
   "execution_count": 0,
   "metadata": {
    "colab": {
     "base_uri": "https://localhost:8080/",
     "height": 394
    },
    "colab_type": "code",
    "id": "BX3slI6QesVL",
    "outputId": "5add3df4-e634-4f16-c0d0-195c9d28fa9d"
   },
   "outputs": [
    {
     "data": {
      "text/html": [
       "<div>\n",
       "<style scoped>\n",
       "    .dataframe tbody tr th:only-of-type {\n",
       "        vertical-align: middle;\n",
       "    }\n",
       "\n",
       "    .dataframe tbody tr th {\n",
       "        vertical-align: top;\n",
       "    }\n",
       "\n",
       "    .dataframe thead th {\n",
       "        text-align: right;\n",
       "    }\n",
       "</style>\n",
       "<table border=\"1\" class=\"dataframe\">\n",
       "  <thead>\n",
       "    <tr style=\"text-align: right;\">\n",
       "      <th></th>\n",
       "      <th>companyName</th>\n",
       "      <th>CIK</th>\n",
       "      <th>filedDate</th>\n",
       "      <th>url</th>\n",
       "      <th>realfiledDate</th>\n",
       "      <th>form_text</th>\n",
       "      <th>Ticker</th>\n",
       "      <th>Name</th>\n",
       "      <th>Exchange</th>\n",
       "      <th>SIC</th>\n",
       "      <th>Business</th>\n",
       "      <th>Incorporated</th>\n",
       "      <th>IRS</th>\n",
       "    </tr>\n",
       "  </thead>\n",
       "  <tbody>\n",
       "    <tr>\n",
       "      <th>0</th>\n",
       "      <td>NewStar Financial, Inc.</td>\n",
       "      <td>1373561</td>\n",
       "      <td>2017-03-21</td>\n",
       "      <td>/Archives/edgar/data/1373561/00011931251709082...</td>\n",
       "      <td>2017-03-21</td>\n",
       "      <td>\\n\\n \\n\\n \\n   \\nUNITED\\nSTATES\\nSECURITIES\\nA...</td>\n",
       "      <td>NEWS</td>\n",
       "      <td>Newstar Financial Inc</td>\n",
       "      <td>NASDAQ</td>\n",
       "      <td>6172.0</td>\n",
       "      <td>MA</td>\n",
       "      <td>NaN</td>\n",
       "      <td>542157878.0</td>\n",
       "    </tr>\n",
       "    <tr>\n",
       "      <th>1</th>\n",
       "      <td>NewStar Financial, Inc.</td>\n",
       "      <td>1373561</td>\n",
       "      <td>2017-05-17</td>\n",
       "      <td>/Archives/edgar/data/1373561/00011931251717340...</td>\n",
       "      <td>2017-05-17</td>\n",
       "      <td>\\n\\n \\n\\n \\n   \\nUNITED\\nSTATES\\nSECURITIES\\nA...</td>\n",
       "      <td>NEWS</td>\n",
       "      <td>Newstar Financial Inc</td>\n",
       "      <td>NASDAQ</td>\n",
       "      <td>6172.0</td>\n",
       "      <td>MA</td>\n",
       "      <td>NaN</td>\n",
       "      <td>542157878.0</td>\n",
       "    </tr>\n",
       "    <tr>\n",
       "      <th>2</th>\n",
       "      <td>NewStar Financial, Inc.</td>\n",
       "      <td>1373561</td>\n",
       "      <td>2017-03-23</td>\n",
       "      <td>/Archives/edgar/data/1373561/00015645901700516...</td>\n",
       "      <td>2017-03-23</td>\n",
       "      <td>\\n\\n \\n\\n \\n   \\nUNITED\\nSTATES\\nSECURITIES\\nA...</td>\n",
       "      <td>NEWS</td>\n",
       "      <td>Newstar Financial Inc</td>\n",
       "      <td>NASDAQ</td>\n",
       "      <td>6172.0</td>\n",
       "      <td>MA</td>\n",
       "      <td>NaN</td>\n",
       "      <td>542157878.0</td>\n",
       "    </tr>\n",
       "    <tr>\n",
       "      <th>3</th>\n",
       "      <td>NewStar Financial, Inc.</td>\n",
       "      <td>1373561</td>\n",
       "      <td>2017-10-17</td>\n",
       "      <td>/Archives/edgar/data/1373561/00011931251731135...</td>\n",
       "      <td>2017-10-17</td>\n",
       "      <td>\\n\\n \\n\\n \\n   \\nUNITED\\nSTATES\\nSECURITIES\\nA...</td>\n",
       "      <td>NEWS</td>\n",
       "      <td>Newstar Financial Inc</td>\n",
       "      <td>NASDAQ</td>\n",
       "      <td>6172.0</td>\n",
       "      <td>MA</td>\n",
       "      <td>NaN</td>\n",
       "      <td>542157878.0</td>\n",
       "    </tr>\n",
       "    <tr>\n",
       "      <th>4</th>\n",
       "      <td>NewStar Financial, Inc.</td>\n",
       "      <td>1373561</td>\n",
       "      <td>2017-05-03</td>\n",
       "      <td>/Archives/edgar/data/1373561/00015645901700821...</td>\n",
       "      <td>2017-05-03</td>\n",
       "      <td>\\n\\n \\n\\n \\n   \\nUNITED\\nSTATES\\nSECURITIES\\nA...</td>\n",
       "      <td>NEWS</td>\n",
       "      <td>Newstar Financial Inc</td>\n",
       "      <td>NASDAQ</td>\n",
       "      <td>6172.0</td>\n",
       "      <td>MA</td>\n",
       "      <td>NaN</td>\n",
       "      <td>542157878.0</td>\n",
       "    </tr>\n",
       "  </tbody>\n",
       "</table>\n",
       "</div>"
      ],
      "text/plain": [
       "               companyName      CIK  ... Incorporated          IRS\n",
       "0  NewStar Financial, Inc.  1373561  ...          NaN  542157878.0\n",
       "1  NewStar Financial, Inc.  1373561  ...          NaN  542157878.0\n",
       "2  NewStar Financial, Inc.  1373561  ...          NaN  542157878.0\n",
       "3  NewStar Financial, Inc.  1373561  ...          NaN  542157878.0\n",
       "4  NewStar Financial, Inc.  1373561  ...          NaN  542157878.0\n",
       "\n",
       "[5 rows x 13 columns]"
      ]
     },
     "execution_count": 19,
     "metadata": {
      "tags": []
     },
     "output_type": "execute_result"
    }
   ],
   "source": [
    "combined = pd.merge(text_df, ticker_df, on = 'CIK')\n",
    "\n",
    "combined.head()"
   ]
  },
  {
   "cell_type": "code",
   "execution_count": 0,
   "metadata": {
    "colab": {
     "base_uri": "https://localhost:8080/",
     "height": 34
    },
    "colab_type": "code",
    "id": "aYut_H3MgfJp",
    "outputId": "7af9f686-84dc-46e1-c1e0-43cfcfcb11fb"
   },
   "outputs": [
    {
     "data": {
      "text/plain": [
       "301748"
      ]
     },
     "execution_count": 20,
     "metadata": {
      "tags": []
     },
     "output_type": "execute_result"
    }
   ],
   "source": [
    "len(combined)"
   ]
  },
  {
   "cell_type": "code",
   "execution_count": 0,
   "metadata": {
    "colab": {
     "base_uri": "https://localhost:8080/",
     "height": 255
    },
    "colab_type": "code",
    "id": "MES89pUph74Y",
    "outputId": "7c637083-1982-4048-f0d3-9bd5bb2c4f0d"
   },
   "outputs": [
    {
     "data": {
      "text/plain": [
       "companyName          0\n",
       "CIK                  0\n",
       "filedDate            0\n",
       "url                  0\n",
       "realfiledDate        0\n",
       "form_text            0\n",
       "Ticker               0\n",
       "Name                 0\n",
       "Exchange          6713\n",
       "SIC                  0\n",
       "Business          3612\n",
       "Incorporated     20058\n",
       "IRS              24424\n",
       "dtype: int64"
      ]
     },
     "execution_count": 21,
     "metadata": {
      "tags": []
     },
     "output_type": "execute_result"
    }
   ],
   "source": [
    "combined.isnull().sum()"
   ]
  },
  {
   "cell_type": "code",
   "execution_count": 0,
   "metadata": {
    "colab": {
     "base_uri": "https://localhost:8080/",
     "height": 1000
    },
    "colab_type": "code",
    "id": "3DODTkdBkHHn",
    "outputId": "8b2fd2a6-7e1f-4842-9006-62eefc2436f3"
   },
   "outputs": [
    {
     "data": {
      "text/plain": [
       "OCWEN FINANCIAL CORP                         3106\n",
       "Nationstar Mortgage Holdings Inc.            2202\n",
       "PSM HOLDINGS INC                             1834\n",
       "PREMIER FINANCIAL BANCORP INC                1640\n",
       "TWO RIVER BANCORP                            1640\n",
       "CULLEN/FROST BANKERS, INC.                   1640\n",
       "FNCB Bancorp, Inc.                           1640\n",
       "AMERISERV FINANCIAL INC /PA/                 1640\n",
       "Oak Valley Bancorp                           1640\n",
       "MBT FINANCIAL CORP                           1640\n",
       "CONSUMER PORTFOLIO SERVICES INC              1640\n",
       "SOUTHWEST GEORGIA FINANCIAL CORP             1640\n",
       "UNION BANKSHARES INC                         1640\n",
       "AMES NATIONAL CORP                           1640\n",
       "CAPITAL CITY BANK GROUP INC                  1640\n",
       "CITIZENS FINANCIAL SERVICES INC              1599\n",
       "Oritani Financial Corp                       1599\n",
       "NMI Holdings, Inc.                           1599\n",
       "MARSH & MCLENNAN COMPANIES, INC.             1599\n",
       "KINGSTONE COMPANIES, INC.                    1599\n",
       "Southern National Bancorp of Virginia Inc    1599\n",
       "1ST SOURCE CORP                              1577\n",
       "SIMMONS FIRST NATIONAL CORP                  1576\n",
       "UNITED SECURITY BANCSHARES                   1560\n",
       "FIRST COMMONWEALTH FINANCIAL CORP /PA/       1558\n",
       "Park Sterling Corp                           1558\n",
       "PARKE BANCORP, INC.                          1558\n",
       "UNICO AMERICAN CORP                          1558\n",
       "PEOPLES FINANCIAL CORP /MS/                  1558\n",
       "Stock Yards Bancorp, Inc.                    1558\n",
       "                                             ... \n",
       "FEDERATED NATIONAL HOLDING CO                  41\n",
       "SOUTHWEST BANCORP INC                          41\n",
       "Fidelity National Financial, Inc.              41\n",
       "C & F FINANCIAL CORP                           41\n",
       "Fortegra Financial Corp                        41\n",
       "CAPITOL BANCORP LTD                            41\n",
       "UNITY BANCORP INC /NJ/                         41\n",
       "FEDNAT HOLDING Co                              41\n",
       "MB FINANCIAL INC /MD                           41\n",
       "FIRST MARINER BANCORP                          41\n",
       "RLI CORP                                       41\n",
       "MONTPELIER RE HOLDINGS LTD                     41\n",
       "FedNat Holding Co                              41\n",
       "S&T BANCORP INC                                41\n",
       "Standard Financial Corp.                       41\n",
       "CENTRUE FINANCIAL CORP                         41\n",
       "SOUTH STATE Corp                               41\n",
       "CenterState Bank Corp                          41\n",
       "AMERICAN INDEPENDENCE CORP                     40\n",
       "ASPEN INSURANCE HOLDINGS LTD                   40\n",
       "NATIONAL SECURITY GROUP INC                    40\n",
       "ACE Ltd                                        40\n",
       "CINCINNATI FINANCIAL CORP                      39\n",
       "AFFIRMATIVE INSURANCE HOLDINGS INC             39\n",
       "REGIONS FINANCIAL CORP                         39\n",
       "METLIFE INC                                    38\n",
       "WASHINGTON FEDERAL INC                         36\n",
       "Northwest Bancshares, Inc.                     36\n",
       "MONARCH COMMUNITY BANCORP INC                  35\n",
       "CNK Global Inc.                                11\n",
       "Name: companyName, Length: 395, dtype: int64"
      ]
     },
     "execution_count": 23,
     "metadata": {
      "tags": []
     },
     "output_type": "execute_result"
    }
   ],
   "source": [
    "combined['companyName'].value_counts()"
   ]
  },
  {
   "cell_type": "code",
   "execution_count": 0,
   "metadata": {
    "colab": {},
    "colab_type": "code",
    "id": "DXtBj7ZGknLB"
   },
   "outputs": [],
   "source": []
  }
 ],
 "metadata": {
  "colab": {
   "name": "CIK_to_ticker",
   "provenance": []
  },
  "kernelspec": {
   "display_name": "Python 3",
   "language": "python",
   "name": "python3"
  },
  "language_info": {
   "codemirror_mode": {
    "name": "ipython",
    "version": 3
   },
   "file_extension": ".py",
   "mimetype": "text/x-python",
   "name": "python",
   "nbconvert_exporter": "python",
   "pygments_lexer": "ipython3",
   "version": "3.7.3"
  }
 },
 "nbformat": 4,
 "nbformat_minor": 1
}
